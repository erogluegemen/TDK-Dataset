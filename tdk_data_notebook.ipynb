{
 "cells": [
  {
   "cell_type": "code",
   "execution_count": 1,
   "metadata": {},
   "outputs": [],
   "source": [
    "import requests\n",
    "import pandas as pd\n",
    "from tqdm import tqdm\n",
    "from concurrent.futures import ThreadPoolExecutor\n",
    "\n",
    "pd.set_option('display.max_columns', None)"
   ]
  },
  {
   "cell_type": "code",
   "execution_count": 2,
   "metadata": {},
   "outputs": [],
   "source": [
    "def get_data(id:str):\n",
    "    headers = {\n",
    "    'User-Agent': 'Mozilla/5.0 (Macintosh; Intel Mac OS X 10_15_7) AppleWebKit/537.36 (KHTML, like Gecko) Chrome/114.0.0.0 Safari/537.36'\n",
    "    }\n",
    "    url = f'https://sozluk.gov.tr/gts_id?id={id}'\n",
    "    response = requests.get(url, headers=headers)\n",
    "    if response.status_code == 200:\n",
    "        json_data = response.json()\n",
    "        if 'error' in json_data and json_data['error'] == \"Sonuç bulunamadı\":\n",
    "            return None\n",
    "        if len(json_data) > 0:\n",
    "            return json_data[0]\n",
    "    return None\n",
    "\n",
    "def create_dataframe_parallel(min_id:int=1, max_id:int=92412) -> pd.DataFrame:\n",
    "    data = []\n",
    "    with ThreadPoolExecutor() as executor:\n",
    "        futures = [executor.submit(get_data, id) for id in range(min_id, max_id + 1)]\n",
    "        progress_bar = tqdm(total=len(futures))\n",
    "        for idx, future in enumerate(futures):\n",
    "            result = future.result()\n",
    "            if result is not None:\n",
    "                data.append(result)\n",
    "            progress_bar.update(1)\n",
    "        progress_bar.close()\n",
    "\n",
    "    df = pd.DataFrame(data)\n",
    "    return df"
   ]
  },
  {
   "attachments": {},
   "cell_type": "markdown",
   "metadata": {},
   "source": [
    "## Count of each Work"
   ]
  },
  {
   "cell_type": "code",
   "execution_count": 4,
   "metadata": {},
   "outputs": [
    {
     "data": {
      "text/plain": [
       "11.5515"
      ]
     },
     "execution_count": 4,
     "metadata": {},
     "output_type": "execute_result"
    }
   ],
   "source": [
    "92412 / 8000"
   ]
  },
  {
   "cell_type": "code",
   "execution_count": 6,
   "metadata": {},
   "outputs": [
    {
     "name": "stderr",
     "output_type": "stream",
     "text": [
      "100%|██████████| 8000/8000 [03:53<00:00, 34.28it/s]\n"
     ]
    }
   ],
   "source": [
    "df1 = create_dataframe_parallel(min_id=1, max_id=8000)"
   ]
  },
  {
   "cell_type": "code",
   "execution_count": 10,
   "metadata": {},
   "outputs": [
    {
     "name": "stderr",
     "output_type": "stream",
     "text": [
      "100%|██████████| 8001/8001 [03:50<00:00, 34.77it/s]\n"
     ]
    }
   ],
   "source": [
    "df2 = create_dataframe_parallel(min_id=8001, max_id=16001)"
   ]
  },
  {
   "cell_type": "code",
   "execution_count": 14,
   "metadata": {},
   "outputs": [
    {
     "name": "stderr",
     "output_type": "stream",
     "text": [
      "100%|██████████| 8001/8001 [03:57<00:00, 33.67it/s]  \n"
     ]
    }
   ],
   "source": [
    "df3 = create_dataframe_parallel(min_id=16002, max_id=24002)"
   ]
  },
  {
   "cell_type": "code",
   "execution_count": 17,
   "metadata": {},
   "outputs": [
    {
     "name": "stderr",
     "output_type": "stream",
     "text": [
      "100%|██████████| 8001/8001 [03:53<00:00, 34.22it/s]\n"
     ]
    }
   ],
   "source": [
    "df4 = create_dataframe_parallel(min_id=24003, max_id=32003)"
   ]
  },
  {
   "cell_type": "code",
   "execution_count": 26,
   "metadata": {},
   "outputs": [
    {
     "name": "stderr",
     "output_type": "stream",
     "text": [
      "100%|██████████| 8001/8001 [03:54<00:00, 34.16it/s]\n"
     ]
    }
   ],
   "source": [
    "df5 = create_dataframe_parallel(min_id=32004, max_id=40004)"
   ]
  },
  {
   "cell_type": "code",
   "execution_count": 30,
   "metadata": {},
   "outputs": [
    {
     "name": "stderr",
     "output_type": "stream",
     "text": [
      "100%|██████████| 8001/8001 [03:56<00:00, 33.82it/s]\n"
     ]
    }
   ],
   "source": [
    "df6 = create_dataframe_parallel(min_id=40005, max_id=48005)"
   ]
  },
  {
   "cell_type": "code",
   "execution_count": 5,
   "metadata": {},
   "outputs": [
    {
     "name": "stderr",
     "output_type": "stream",
     "text": [
      "100%|██████████| 8001/8001 [04:10<00:00, 31.88it/s]\n"
     ]
    }
   ],
   "source": [
    "df7 = create_dataframe_parallel(min_id=48006, max_id=56006)"
   ]
  },
  {
   "cell_type": "code",
   "execution_count": 14,
   "metadata": {},
   "outputs": [
    {
     "name": "stderr",
     "output_type": "stream",
     "text": [
      "100%|██████████| 8001/8001 [04:18<00:00, 30.98it/s]\n"
     ]
    }
   ],
   "source": [
    "df8 = create_dataframe_parallel(min_id=56007, max_id=64007)"
   ]
  },
  {
   "cell_type": "code",
   "execution_count": 16,
   "metadata": {},
   "outputs": [
    {
     "name": "stderr",
     "output_type": "stream",
     "text": [
      "100%|██████████| 8001/8001 [04:18<00:00, 30.96it/s]\n"
     ]
    }
   ],
   "source": [
    "df9 = create_dataframe_parallel(min_id=64008, max_id=72008)"
   ]
  },
  {
   "cell_type": "code",
   "execution_count": 19,
   "metadata": {},
   "outputs": [
    {
     "name": "stderr",
     "output_type": "stream",
     "text": [
      "100%|██████████| 8001/8001 [04:22<00:00, 30.44it/s]\n"
     ]
    }
   ],
   "source": [
    "df10 = create_dataframe_parallel(min_id=72009, max_id=80009)"
   ]
  },
  {
   "cell_type": "code",
   "execution_count": 4,
   "metadata": {},
   "outputs": [
    {
     "name": "stderr",
     "output_type": "stream",
     "text": [
      "100%|██████████| 8001/8001 [04:02<00:00, 32.93it/s]\n"
     ]
    }
   ],
   "source": [
    "df11 = create_dataframe_parallel(min_id=80010, max_id=88010)"
   ]
  },
  {
   "cell_type": "code",
   "execution_count": 21,
   "metadata": {},
   "outputs": [
    {
     "name": "stderr",
     "output_type": "stream",
     "text": [
      "100%|██████████| 4404/4404 [02:31<00:00, 29.03it/s]\n"
     ]
    }
   ],
   "source": [
    "df12 = create_dataframe_parallel(min_id=88010, max_id=92413)"
   ]
  }
 ],
 "metadata": {
  "kernelspec": {
   "display_name": "datascience",
   "language": "python",
   "name": "python3"
  },
  "language_info": {
   "codemirror_mode": {
    "name": "ipython",
    "version": 3
   },
   "file_extension": ".py",
   "mimetype": "text/x-python",
   "name": "python",
   "nbconvert_exporter": "python",
   "pygments_lexer": "ipython3",
   "version": "3.8.16"
  },
  "orig_nbformat": 4
 },
 "nbformat": 4,
 "nbformat_minor": 2
}
